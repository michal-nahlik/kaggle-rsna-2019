{
 "cells": [
  {
   "cell_type": "code",
   "execution_count": null,
   "metadata": {
    "_cell_guid": "b1076dfc-b9ad-4769-8c92-a6c4dae69d19",
    "_uuid": "8f2839f25d086af736a60e9eeb907d3b93b6e0e5"
   },
   "outputs": [],
   "source": [
    "import os\n",
    "import numpy as np # linear algebra\n",
    "import pandas as pd # data processing, CSV file I/O (e.g. pd.read_csv)\n",
    "import pydicom\n",
    "from tqdm import tqdm\n",
    "from matplotlib import pyplot as plt"
   ]
  },
  {
   "cell_type": "code",
   "execution_count": null,
   "metadata": {},
   "outputs": [],
   "source": [
    "def load_csv(csv_path):\n",
    "    data_df = pd.read_csv(csv_path)\n",
    "    data_df[['ID', 'Image', 'Diagnosis']] = data_df['ID'].str.split('_', expand=True)\n",
    "    data_df = data_df.drop(['ID'], axis=1).drop_duplicates()\n",
    "    data_df = data_df.pivot(index='Image', columns='Diagnosis', values='Label').reset_index()\n",
    "    data_df['Image'] = 'ID_' + data_df['Image']\n",
    "    return data_df\n",
    "\n",
    "def get_metadata(path, files):\n",
    "    train_di = {}\n",
    "\n",
    "    for filename in tqdm(files):\n",
    "        dcm = pydicom.dcmread(path + filename)\n",
    "        all_keywords = dcm.dir()\n",
    "        ignored = ['Rows', 'Columns', 'PixelData']\n",
    "\n",
    "        if 'ID' not in train_di:\n",
    "            train_di['ID'] = []\n",
    "            \n",
    "        train_di['ID'].append(filename[:-4])\n",
    "        \n",
    "        for name in all_keywords:\n",
    "            if name in ignored:\n",
    "                continue\n",
    "\n",
    "            if name not in train_di:\n",
    "                train_di[name] = []\n",
    "\n",
    "            train_di[name].append(dcm[name].value)\n",
    "\n",
    "    df = pd.DataFrame(train_di)\n",
    "    \n",
    "    return df"
   ]
  },
  {
   "cell_type": "code",
   "execution_count": null,
   "metadata": {
    "_cell_guid": "79c7e3d0-c299-4dcb-8224-4455121ee9b0",
    "_uuid": "d629ff2d2480ee46fbb7e2d37f6b5fab8052498a"
   },
   "outputs": [],
   "source": [
    "path = '../data/'\n",
    "path_train = path + 'stage_2_train_images/'\n",
    "path_test = path + 'stage_2_test_images/'"
   ]
  },
  {
   "cell_type": "code",
   "execution_count": null,
   "metadata": {},
   "outputs": [],
   "source": [
    "train_files = os.listdir(path_train)\n",
    "train_meta = get_metadata(path_train, train_files)\n",
    "train_meta.to_csv('train_stage1_metadata.csv', index=False)"
   ]
  },
  {
   "cell_type": "code",
   "execution_count": null,
   "metadata": {},
   "outputs": [],
   "source": [
    "test_files = os.listdir(path_test)\n",
    "test_meta = get_metadata(path_test, test_files)\n",
    "test_meta.to_csv('test_stage_2_metadata.csv', index=False)"
   ]
  }
 ],
 "metadata": {
  "kernelspec": {
   "display_name": "Python 3",
   "language": "python",
   "name": "python3"
  },
  "language_info": {
   "codemirror_mode": {
    "name": "ipython",
    "version": 3
   },
   "file_extension": ".py",
   "mimetype": "text/x-python",
   "name": "python",
   "nbconvert_exporter": "python",
   "pygments_lexer": "ipython3",
   "version": "3.5.3"
  }
 },
 "nbformat": 4,
 "nbformat_minor": 1
}
