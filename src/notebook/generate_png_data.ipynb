{
 "cells": [
  {
   "cell_type": "code",
   "execution_count": null,
   "metadata": {},
   "outputs": [],
   "source": [
    "import data.factory as data_factory\n",
    "import utils.config as config\n",
    "import data.util as data_util\n",
    "import data.dcm_util as dcm_util\n",
    "\n",
    "import os\n",
    "import cv2\n",
    "import pydicom\n",
    "import numpy as np\n",
    "import pandas as pd\n",
    "\n",
    "from tqdm import tqdm\n",
    "from joblib import Parallel, delayed"
   ]
  },
  {
   "cell_type": "markdown",
   "metadata": {},
   "source": [
    "### Data folders config"
   ]
  },
  {
   "cell_type": "code",
   "execution_count": null,
   "metadata": {},
   "outputs": [],
   "source": [
    "cfg = config.Config()\n",
    "cfg.path = '../data/'\n",
    "\n",
    "cfg.train = dict()\n",
    "cfg.train.folder = 'stage_2_train_images/'\n",
    "cfg.train.df_name = 'stage_2_train.csv'\n",
    "cfg.train.meta = 'stage_2_train_metadata.csv'\n",
    "cfg.train.path = cfg.path + cfg.train.folder\n",
    "\n",
    "cfg.test = dict()\n",
    "cfg.test.folder = 'stage_2_test_images/'\n",
    "cfg.test.df_name = 'stage_2_sample_submission.csv'\n",
    "cfg.test.path = cfg.path + cfg.test.folder"
   ]
  },
  {
   "cell_type": "markdown",
   "metadata": {},
   "source": [
    "### Load data frames"
   ]
  },
  {
   "cell_type": "code",
   "execution_count": null,
   "metadata": {},
   "outputs": [],
   "source": [
    "train_df, _, _ = data_factory.load_train_dataframes(cfg)"
   ]
  },
  {
   "cell_type": "code",
   "execution_count": null,
   "metadata": {},
   "outputs": [],
   "source": [
    "test_df = data_util.load_csv(cfg.path + cfg.test.df_name)"
   ]
  },
  {
   "cell_type": "code",
   "execution_count": null,
   "metadata": {},
   "outputs": [],
   "source": [
    "def save_img(folder, name, img):\n",
    "    cv2.imwrite(folder + name + '.png' , img)    \n",
    "\n",
    "def save_np(folder, name, data):\n",
    "    data = np.int16(data)\n",
    "    np.savez(folder + name, data=data)\n",
    "    \n",
    "def save_img_16(folder, name, img):\n",
    "    img = img + 2000\n",
    "    img = np.uint16(img)\n",
    "    cv2.imwrite(folder + name + '.png' , img)\n",
    "\n",
    "def prep_and_save(path, target, row, img_sz):\n",
    "    try:\n",
    "        img = dcm_util.load_and_preprocess(path, row['Image'], img_sz, window_type, window_conf)\n",
    "        save_img(target, row['Image'], img)\n",
    "    except Exception as e:\n",
    "        print(row['Image'], e)\n"
   ]
  },
  {
   "cell_type": "code",
   "execution_count": null,
   "metadata": {},
   "outputs": [],
   "source": [
    "path_train = cfg.train.path\n",
    "path_test = cfg.test.path"
   ]
  },
  {
   "cell_type": "markdown",
   "metadata": {},
   "source": [
    "### Normal window data 256"
   ]
  },
  {
   "cell_type": "code",
   "execution_count": null,
   "metadata": {},
   "outputs": [],
   "source": [
    "window_conf = [[-1, -1], [80, 200], [600, 2800]]\n",
    "window_type = 0  # 0 - normal, 1 - sigmoid\n",
    "img_sz = 256"
   ]
  },
  {
   "cell_type": "code",
   "execution_count": null,
   "metadata": {},
   "outputs": [],
   "source": [
    "path_train_out = cfg.path + 'stage_2_train_images_{}_png/'.format(img_sz)\n",
    "\n",
    "os.mkdir(path_train_out)\n",
    "\n",
    "Parallel(n_jobs=-1)(delayed(prep_and_save)(path_train, path_train_out, row, img_sz) for index, row in tqdm(train_df.iterrows()))"
   ]
  },
  {
   "cell_type": "code",
   "execution_count": null,
   "metadata": {},
   "outputs": [],
   "source": [
    "path_test_out  = cfg.path + 'stage_2_test_images_{}_png/'.format(img_sz)\n",
    "\n",
    "os.mkdir(path_test_out)\n",
    "\n",
    "Parallel(n_jobs=-1)(delayed(prep_and_save)(path_test, path_test_out, row, img_sz) for index, row in tqdm(test_df.iterrows()))"
   ]
  },
  {
   "cell_type": "markdown",
   "metadata": {},
   "source": [
    "### Sigmoid window data 378"
   ]
  },
  {
   "cell_type": "code",
   "execution_count": null,
   "metadata": {},
   "outputs": [],
   "source": [
    "window_conf = [[-1, -1], [80, 200], [600, 2800]]\n",
    "window_type = 1  # 0 - normal, 1 - sigmoid\n",
    "img_sz = 378"
   ]
  },
  {
   "cell_type": "code",
   "execution_count": null,
   "metadata": {},
   "outputs": [],
   "source": [
    "path_train_out = cfg.path + 'stage_1_train_sig_images_{}_png/'.format(img_sz)\n",
    "\n",
    "os.mkdir(path_train_out)\n",
    "\n",
    "Parallel(n_jobs=-1)(delayed(prep_and_save)(path_train, path_train_out, row, img_sz) for index, row in tqdm(train_df.iterrows()))"
   ]
  },
  {
   "cell_type": "code",
   "execution_count": null,
   "metadata": {},
   "outputs": [],
   "source": [
    "path_test_out  = cfg.path + 'stage_2_test_sig_images_{}_png/'.format(img_sz)\n",
    "\n",
    "os.mkdir(path_test_out)\n",
    "\n",
    "Parallel(n_jobs=-1)(delayed(prep_and_save)(path_test, path_test_out, row, img_sz) for index, row in tqdm(test_df.iterrows()))"
   ]
  },
  {
   "cell_type": "markdown",
   "metadata": {},
   "source": [
    "### Normal window data 378 v2"
   ]
  },
  {
   "cell_type": "code",
   "execution_count": null,
   "metadata": {},
   "outputs": [],
   "source": [
    "window_conf = [[-1, -1], [80, 200], [40, 380]]\n",
    "window_type = 0  # 0 - normal, 1 - sigmoid\n",
    "img_sz = 378"
   ]
  },
  {
   "cell_type": "code",
   "execution_count": null,
   "metadata": {},
   "outputs": [],
   "source": [
    "path_train_out = cfg.path + 'stage_1_train_images_{}_png_v2/'.format(img_sz)\n",
    "\n",
    "os.mkdir(path_train_out)\n",
    "\n",
    "Parallel(n_jobs=-1)(delayed(prep_and_save)(path_train, path_train_out, row, img_sz) for index, row in tqdm(train_df.iterrows()))"
   ]
  },
  {
   "cell_type": "code",
   "execution_count": null,
   "metadata": {},
   "outputs": [],
   "source": [
    "path_test_out  = cfg.path + 'stage_1_test_images_{}_png_v2/'.format(img_sz)\n",
    "\n",
    "os.mkdir(path_test_out)\n",
    "\n",
    "Parallel(n_jobs=-1)(delayed(prep_and_save)(path_test, path_test_out, row, img_sz) for index, row in tqdm(test_df.iterrows()))"
   ]
  },
  {
   "cell_type": "markdown",
   "metadata": {},
   "source": [
    "### Full data 256 with adj images"
   ]
  },
  {
   "cell_type": "code",
   "execution_count": null,
   "metadata": {},
   "outputs": [],
   "source": [
    "def load_dcm_data(path, img_id):\n",
    "    data = pydicom.dcmread(path + img_id + '.dcm')\n",
    "    data = data.pixel_array\n",
    "    return data\n",
    "\n",
    "\n",
    "def load_and_preprocess_v2(path, index, img_sz, meta):   \n",
    "    curr   = meta.iloc[index]\n",
    "    img_id = curr['Image']\n",
    "    \n",
    "    if index == meta.index[0]:\n",
    "        prev = curr\n",
    "    else:\n",
    "        prev = meta.loc[index - 1]\n",
    "        \n",
    "    if index == meta.index[-1]:\n",
    "        post = curr\n",
    "    else:\n",
    "        post = meta.loc[index + 1]\n",
    "    \n",
    "    \n",
    "    data = load_dcm_data(path, img_id)\n",
    "    img = np.zeros((*np.shape(data), 3), dtype=np.float32)    \n",
    "\n",
    "    if curr['PatientID'] == prev['PatientID'] and curr['StudyInstanceUID'] == prev['StudyInstanceUID']:\n",
    "        img[..., 0] = load_dcm_data(path, prev['Image'])\n",
    "    else:\n",
    "        img[..., 0] = data\n",
    "\n",
    "    img[..., 1] = data\n",
    "\n",
    "    if curr['PatientID'] == post['PatientID'] and curr['StudyInstanceUID'] == post['StudyInstanceUID']:\n",
    "        img[..., 2] = load_dcm_data(path, post['Image'])\n",
    "    else:\n",
    "        img[..., 2] = data\n",
    "\n",
    "    if img_sz:\n",
    "        img = cv2.resize(img, (img_sz, img_sz))\n",
    "\n",
    "    return img"
   ]
  },
  {
   "cell_type": "code",
   "execution_count": null,
   "metadata": {},
   "outputs": [],
   "source": [
    "def prep_and_save_v2(path, target, index, row, img_sz, meta):\n",
    "    try:\n",
    "        img = load_and_preprocess_v2(path, index, img_sz, meta)\n",
    "        save_img_16(target, row['Image'], img)\n",
    "    except Exception as e:\n",
    "        print(row['Image'], e)"
   ]
  },
  {
   "cell_type": "code",
   "execution_count": null,
   "metadata": {},
   "outputs": [],
   "source": [
    "img_sz = 256\n",
    "train_meta_df = pd.read_csv(cfg.path + 'stage_2_train_metadata.csv')\n",
    "test_meta_df  = pd.read_csv(cfg.path + 'stage_2_test_metadata.csv')\n",
    "\n",
    "train_meta_df = train_meta_df.rename(columns={\"ID\": \"Image\"})\n",
    "test_meta_df  = test_meta_df.rename(columns={\"ID\": \"Image\"})"
   ]
  },
  {
   "cell_type": "code",
   "execution_count": null,
   "metadata": {},
   "outputs": [],
   "source": [
    "train_meta_df['pos_Z'] = train_meta_df['ImagePositionPatient'].apply(lambda x: float(x[1:-1].replace('\\'', '').split(',')[-1]))\n",
    "train_meta_df.sort_values(by=['PatientID', 'StudyInstanceUID', 'pos_Z'], inplace=True)\n",
    "train_meta_df.reset_index(drop=True, inplace=True)"
   ]
  },
  {
   "cell_type": "code",
   "execution_count": null,
   "metadata": {},
   "outputs": [],
   "source": [
    "test_meta_df['pos_Z'] = test_meta_df['ImagePositionPatient'].apply(lambda x: float(x[1:-1].replace('\\'', '').split(',')[-1]))\n",
    "test_meta_df.sort_values(by=['PatientID', 'StudyInstanceUID', 'pos_Z'], inplace=True)\n",
    "test_meta_df.reset_index(drop=True, inplace=True)"
   ]
  },
  {
   "cell_type": "code",
   "execution_count": null,
   "metadata": {},
   "outputs": [],
   "source": [
    "print(len(test_meta_df))"
   ]
  },
  {
   "cell_type": "code",
   "execution_count": null,
   "metadata": {},
   "outputs": [],
   "source": [
    "path_train_out = cfg.path + 'stage_2_train_images_{}_full/'.format(img_sz)\n",
    "\n",
    "os.mkdir(path_train_out)\n",
    "\n",
    "Parallel(n_jobs=-1)(delayed(prep_and_save_v2)(path_train, path_train_out, index, row, img_sz, train_meta_df) for index, row in tqdm(train_meta_df.iterrows()))"
   ]
  },
  {
   "cell_type": "code",
   "execution_count": null,
   "metadata": {},
   "outputs": [],
   "source": [
    "path_test_out  = cfg.path + 'stage_2_test_images_{}_np/'.format(img_sz)\n",
    "\n",
    "os.mkdir(path_test_out)\n",
    "\n",
    "Parallel(n_jobs=-1)(delayed(prep_and_save_v2)(path_test, path_test_out, index, row, img_sz, test_meta_df) for index, row in tqdm(test_df.iterrows()))"
   ]
  },
  {
   "cell_type": "markdown",
   "metadata": {},
   "source": [
    "### Check generated data"
   ]
  },
  {
   "cell_type": "code",
   "execution_count": null,
   "metadata": {},
   "outputs": [],
   "source": [
    "I = load_and_preprocess_v2(path_train, 0, img_sz, train_meta_df)\n",
    "print(np.min(I), np.max(I))"
   ]
  },
  {
   "cell_type": "code",
   "execution_count": null,
   "metadata": {},
   "outputs": [],
   "source": [
    "from matplotlib import pyplot as plt"
   ]
  },
  {
   "cell_type": "code",
   "execution_count": null,
   "metadata": {},
   "outputs": [],
   "source": [
    "I = cv2.imread('../data/stage_2_train_images_256_full/' + 'ID_033b3ee42' + '.png', -1)\n",
    "\n",
    "print(np.min(I), np.max(I))\n",
    "\n",
    "f, ax = plt.subplots(ncols=3, figsize=(20,4))\n",
    "for i in range(3):\n",
    "    ax[i].imshow(I[...,i] / 8000)"
   ]
  },
  {
   "cell_type": "code",
   "execution_count": null,
   "metadata": {},
   "outputs": [],
   "source": [
    "len(train_meta_df)"
   ]
  },
  {
   "cell_type": "markdown",
   "metadata": {},
   "source": [
    "### Move data\n",
    "a way to move large number of files"
   ]
  },
  {
   "cell_type": "code",
   "execution_count": null,
   "metadata": {},
   "outputs": [],
   "source": [
    "x = os.listdir('../data/stage_1_test_sig_images_378_png/')\n",
    "len(x)\n",
    "\n",
    "find stage_1_test_sig_images_378_png -name '*.*' -exec mv {} stage_1_train_sig_images_378_png \\;"
   ]
  }
 ],
 "metadata": {
  "kernelspec": {
   "display_name": "Python 3",
   "language": "python",
   "name": "python3"
  },
  "language_info": {
   "codemirror_mode": {
    "name": "ipython",
    "version": 3
   },
   "file_extension": ".py",
   "mimetype": "text/x-python",
   "name": "python",
   "nbconvert_exporter": "python",
   "pygments_lexer": "ipython3",
   "version": "3.5.3"
  }
 },
 "nbformat": 4,
 "nbformat_minor": 2
}
