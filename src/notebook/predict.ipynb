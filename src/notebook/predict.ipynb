{
 "cells": [
  {
   "cell_type": "code",
   "execution_count": null,
   "metadata": {},
   "outputs": [],
   "source": [
    "import conf.model_001 as config\n",
    "\n",
    "import torch\n",
    "import net.loader as net_loader\n",
    "import net.util as net_util\n",
    "import data.factory as data_factory\n",
    "import net.runner as runner\n",
    "import post.make_submission as make_submission\n",
    "\n",
    "stage = 3\n",
    "epoch = 1\n",
    "\n",
    "for fold in [0, 2, 4]:\n",
    "    cfg = config.get_default_conf()\n",
    "    cfg.fold = fold\n",
    "\n",
    "    saved_model = '{}_{}_{}_{}'.format(cfg.model.out_file_name, cfg.fold, stage, epoch)\n",
    "    model_path = '{}model/{}/{}.pth'.format(cfg.output_path, cfg.model.out_file_name, saved_model)\n",
    "    print(model_path)\n",
    "    model = torch.load(model_path)\n",
    "\n",
    "    for param in model.parameters():\n",
    "        param.requires_grad = False\n",
    "\n",
    "    model.eval()\n",
    "    model.to(cfg.model.device)\n",
    "    # Set seeds\n",
    "    net_util.set_seed(cfg.seed)\n",
    "    make_submission.predict_with_tta(cfg, model, str(cfg.fold))"
   ]
  },
  {
   "cell_type": "code",
   "execution_count": null,
   "metadata": {},
   "outputs": [],
   "source": [
    "import conf.model_002 as config\n",
    "\n",
    "import torch\n",
    "import net.loader as net_loader\n",
    "import net.util as net_util\n",
    "import data.factory as data_factory\n",
    "import net.runner as runner\n",
    "import post.make_submission as make_submission\n",
    "\n",
    "stage = 3\n",
    "epoch = 1\n",
    "\n",
    "for fold in [0]:\n",
    "    cfg = config.get_default_conf()\n",
    "    cfg.fold = fold\n",
    "\n",
    "    saved_model = '{}_{}_{}_{}'.format(cfg.model.out_file_name, cfg.fold, stage, epoch)\n",
    "    model_path = '{}model/{}/{}.pth'.format(cfg.output_path, cfg.model.out_file_name, saved_model)\n",
    "    print(model_path)\n",
    "    model = torch.load(model_path)\n",
    "\n",
    "    for param in model.parameters():\n",
    "        param.requires_grad = False\n",
    "\n",
    "    model.eval()\n",
    "    model.to(cfg.model.device)\n",
    "    # Set seeds\n",
    "    net_util.set_seed(cfg.seed)\n",
    "    make_submission.predict_with_tta(cfg, model)"
   ]
  },
  {
   "cell_type": "code",
   "execution_count": null,
   "metadata": {},
   "outputs": [],
   "source": [
    "import conf.model_005 as config\n",
    "\n",
    "import torch\n",
    "import net.loader as net_loader\n",
    "import net.util as net_util\n",
    "import data.factory as data_factory\n",
    "import net.runner as runner\n",
    "import post.make_submission as make_submission\n",
    "\n",
    "stage = 3\n",
    "epoch = 1\n",
    "\n",
    "for fold in [0, 2, 4]:\n",
    "    cfg = config.get_default_conf()\n",
    "    cfg.fold = fold\n",
    "\n",
    "    saved_model = '{}_{}_{}_{}'.format(cfg.model.out_file_name, cfg.fold, stage, epoch)\n",
    "    model_path = '{}model/{}/{}.pth'.format(cfg.output_path, cfg.model.out_file_name, saved_model)\n",
    "    print(model_path)\n",
    "    model = torch.load(model_path)\n",
    "\n",
    "    for param in model.parameters():\n",
    "        param.requires_grad = False\n",
    "\n",
    "    model.eval()\n",
    "    model.to(cfg.model.device)\n",
    "    # Set seeds\n",
    "    net_util.set_seed(cfg.seed)\n",
    "    make_submission.predict_with_tta(cfg, model)"
   ]
  },
  {
   "cell_type": "code",
   "execution_count": null,
   "metadata": {},
   "outputs": [],
   "source": [
    "import conf.model_006 as config\n",
    "\n",
    "import torch\n",
    "import net.loader as net_loader\n",
    "import net.util as net_util\n",
    "import data.factory as data_factory\n",
    "import net.runner as runner\n",
    "import post.make_submission as make_submission\n",
    "\n",
    "stage = 3\n",
    "epoch = 1\n",
    "\n",
    "for fold in [0, 3]:\n",
    "    cfg = config.get_default_conf()\n",
    "    cfg.fold = fold\n",
    "\n",
    "    saved_model = '{}_{}_{}_{}'.format(cfg.model.out_file_name, cfg.fold, stage, epoch)\n",
    "    model_path = '{}model/{}/{}.pth'.format(cfg.output_path, cfg.model.out_file_name, saved_model)\n",
    "    print(model_path)\n",
    "    model = torch.load(model_path)\n",
    "\n",
    "    for param in model.parameters():\n",
    "        param.requires_grad = False\n",
    "\n",
    "    model.eval()\n",
    "    model.to(cfg.model.device)\n",
    "    # Set seeds\n",
    "    net_util.set_seed(cfg.seed)\n",
    "    make_submission.predict_with_tta(cfg, model)"
   ]
  },
  {
   "cell_type": "code",
   "execution_count": null,
   "metadata": {},
   "outputs": [],
   "source": [
    "import conf.model_012 as config\n",
    "\n",
    "import torch\n",
    "import net.loader as net_loader\n",
    "import net.util as net_util\n",
    "import data.factory as data_factory\n",
    "import net.runner as runner\n",
    "import post.make_submission as make_submission\n",
    "\n",
    "stage = 3\n",
    "epoch = 2\n",
    "\n",
    "for fold in [0]:\n",
    "    cfg = config.get_default_conf()\n",
    "    cfg.fold = fold\n",
    "\n",
    "    saved_model = '{}_{}_{}_{}'.format(cfg.model.out_file_name, cfg.fold, stage, epoch)\n",
    "    model_path = '{}model/{}/{}.pth'.format(cfg.output_path, cfg.model.out_file_name, saved_model)\n",
    "    print(model_path)\n",
    "    model = torch.load(model_path)\n",
    "\n",
    "    for param in model.parameters():\n",
    "        param.requires_grad = False\n",
    "\n",
    "    model.eval()\n",
    "    model.to(cfg.model.device)\n",
    "    # Set seeds\n",
    "    net_util.set_seed(cfg.seed)\n",
    "    make_submission.predict_with_tta(cfg, model)"
   ]
  },
  {
   "cell_type": "code",
   "execution_count": null,
   "metadata": {},
   "outputs": [],
   "source": [
    "submission_list = ['submission_efficientnet-b3_0', 'submission_efficientnet-b3_2', 'submission_efficientnet-b3_4', 'submission_resnext101_32x8d_wsl_0', 'submission_resnext50_32x4d_base2_0', 'submission_resnext50_32x4d_base2_3', 'submission_se_resnext50_32x4d_2_2_2_0', 'submission_se_resnext50_32x4d_2_2_2_2', 'submission_se_resnext50_32x4d_2_2_2_4']\n",
    "print(submission_list)"
   ]
  },
  {
   "cell_type": "code",
   "execution_count": null,
   "metadata": {},
   "outputs": [],
   "source": [
    "make_submission.ensemble(submission_list, 'stage_2_ensemble')"
   ]
  },
  {
   "cell_type": "code",
   "execution_count": null,
   "metadata": {},
   "outputs": [],
   "source": [
    "submission_list = ['submission_se_resnext50_32x4d_2_2_2_0', 'submission_efficientnet-b3_4', 'submission_resnext101_32x8d_wsl_0', 'submission_resnext50_32x4d_base2_0', 'se_resnext50_32x4d_base4_0']\n",
    "print(submission_list)"
   ]
  },
  {
   "cell_type": "code",
   "execution_count": null,
   "metadata": {},
   "outputs": [],
   "source": [
    "make_submission.ensemble(submission_list, 'stage_2_v2_ensemble')"
   ]
  }
 ],
 "metadata": {
  "kernelspec": {
   "display_name": "Python 3",
   "language": "python",
   "name": "python3"
  },
  "language_info": {
   "codemirror_mode": {
    "name": "ipython",
    "version": 3
   },
   "file_extension": ".py",
   "mimetype": "text/x-python",
   "name": "python",
   "nbconvert_exporter": "python",
   "pygments_lexer": "ipython3",
   "version": "3.5.3"
  }
 },
 "nbformat": 4,
 "nbformat_minor": 2
}